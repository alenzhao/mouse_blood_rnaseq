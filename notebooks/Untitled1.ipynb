{
 "cells": [
  {
   "cell_type": "markdown",
   "metadata": {},
   "source": [
    "## test ruv-seq\n",
    "* Can I force the blood samples together?"
   ]
  },
  {
   "cell_type": "code",
   "execution_count": null,
   "metadata": {
    "collapsed": true
   },
   "outputs": [],
   "source": [
    "require(\"edgeR\")\n",
    "require(\"limma\")\n",
    "library(readr)\n",
    "require(tximport)\n",
    "DATA = '../data/'"
   ]
  },
  {
   "cell_type": "code",
   "execution_count": 2,
   "metadata": {
    "collapsed": false
   },
   "outputs": [
    {
     "ename": "ERROR",
     "evalue": "Error in unlist(str_split(x, \"\\n\"), recursive = FALSE, use.names = FALSE): lazy-load database '/opt/conda/lib/R/library/stringr/R/stringr.rdb' is corrupt\n",
     "output_type": "error",
     "traceback": [
      "Error in unlist(str_split(x, \"\\n\"), recursive = FALSE, use.names = FALSE): lazy-load database '/opt/conda/lib/R/library/stringr/R/stringr.rdb' is corrupt\nTraceback:\n"
     ]
    }
   ],
   "source": [
    "require(\"edgeR\")\n",
    "require(\"limma\")"
   ]
  },
  {
   "cell_type": "code",
   "execution_count": null,
   "metadata": {
    "collapsed": true
   },
   "outputs": [],
   "source": []
  }
 ],
 "metadata": {
  "kernelspec": {
   "display_name": "R",
   "language": "R",
   "name": "ir"
  },
  "language_info": {
   "codemirror_mode": "r",
   "file_extension": ".r",
   "mimetype": "text/x-r-source",
   "name": "R",
   "pygments_lexer": "r",
   "version": "3.3.1"
  }
 },
 "nbformat": 4,
 "nbformat_minor": 2
}
